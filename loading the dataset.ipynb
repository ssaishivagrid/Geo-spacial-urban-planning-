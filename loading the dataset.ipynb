{
 "cells": [
  {
   "cell_type": "code",
   "execution_count": null,
   "metadata": {},
   "outputs": [
    {
     "name": "stdout",
     "output_type": "stream",
     "text": [
      "Processed: Amaravati, India\n",
      "Skipping Itanagar, India due to error: Nominatim did not geocode query 'Itanagar, India' to a geometry of type (Multi)Polygon.\n",
      "Processed: Dispur, India\n",
      "Processed: Patna, India\n",
      "Processed: Raipur, India\n",
      "Skipping Porvorim, India due to error: Nominatim did not geocode query 'Porvorim, India' to a geometry of type (Multi)Polygon.\n",
      "Processed: Gandhinagar, India\n",
      "Processed: Chandigarh, India\n",
      "Processed: Shimla, India\n",
      "Processed: Ranchi, India\n",
      "Processed: Bangalore, India\n",
      "Processed: Thiruvananthapuram, India\n",
      "Processed: Bhopal, India\n",
      "Processed: Mumbai, India\n",
      "Skipping Imphal, India due to error: Nominatim did not geocode query 'Imphal, India' to a geometry of type (Multi)Polygon.\n",
      "Skipping Shillong, India due to error: Nominatim did not geocode query 'Shillong, India' to a geometry of type (Multi)Polygon.\n",
      "Processed: Aizawl, India\n",
      "Processed: Kohima, India\n",
      "Processed: Bhubaneswar, India\n",
      "Processed: Chandigarh, India\n",
      "Processed: Jaipur, India\n",
      "Processed: Gangtok, India\n",
      "Processed: Chennai, India\n",
      "Processed: Hyderabad, India\n",
      "Skipping Agartala, India due to error: Nominatim did not geocode query 'Agartala, India' to a geometry of type (Multi)Polygon.\n",
      "Processed: Lucknow, India\n",
      "Skipping Bhararisain, India due to error: Nominatim did not geocode query 'Bhararisain, India' to a geometry of type (Multi)Polygon.\n",
      "Processed: Kolkata, India\n",
      "Processed: Hefei, China\n"
     ]
    },
    {
     "name": "stderr",
     "output_type": "stream",
     "text": [
      "/Users/ssaishiva/Downloads/Capital_Scrapper/shiva_env/lib/python3.12/site-packages/osmnx/_overpass.py:267: UserWarning: This area is 11 times your configured Overpass max query area size. It will automatically be divided up into multiple sub-queries accordingly. This may take a long time.\n",
      "  multi_poly_proj = utils_geo._consolidate_subdivide_geometry(poly_proj)\n"
     ]
    },
    {
     "name": "stdout",
     "output_type": "stream",
     "text": [
      "Processed: Beijing, China\n"
     ]
    },
    {
     "name": "stderr",
     "output_type": "stream",
     "text": [
      "/Users/ssaishiva/Downloads/Capital_Scrapper/shiva_env/lib/python3.12/site-packages/osmnx/_overpass.py:267: UserWarning: This area is 56 times your configured Overpass max query area size. It will automatically be divided up into multiple sub-queries accordingly. This may take a long time.\n",
      "  multi_poly_proj = utils_geo._consolidate_subdivide_geometry(poly_proj)\n"
     ]
    },
    {
     "name": "stdout",
     "output_type": "stream",
     "text": [
      "Processed: Chongqing, China\n",
      "Processed: Fuzhou, China\n",
      "Processed: Lanzhou, China\n",
      "Processed: Guangzhou, China\n"
     ]
    },
    {
     "name": "stderr",
     "output_type": "stream",
     "text": [
      "/Users/ssaishiva/Downloads/Capital_Scrapper/shiva_env/lib/python3.12/site-packages/osmnx/_overpass.py:267: UserWarning: This area is 11 times your configured Overpass max query area size. It will automatically be divided up into multiple sub-queries accordingly. This may take a long time.\n",
      "  multi_poly_proj = utils_geo._consolidate_subdivide_geometry(poly_proj)\n"
     ]
    },
    {
     "name": "stdout",
     "output_type": "stream",
     "text": [
      "Processed: Nanning, China\n",
      "Processed: Guiyang, China\n",
      "Processed: Haikou, China\n",
      "Processed: Shijiazhuang, China\n"
     ]
    },
    {
     "name": "stderr",
     "output_type": "stream",
     "text": [
      "/Users/ssaishiva/Downloads/Capital_Scrapper/shiva_env/lib/python3.12/site-packages/osmnx/_overpass.py:267: UserWarning: This area is 26 times your configured Overpass max query area size. It will automatically be divided up into multiple sub-queries accordingly. This may take a long time.\n",
      "  multi_poly_proj = utils_geo._consolidate_subdivide_geometry(poly_proj)\n"
     ]
    },
    {
     "name": "stdout",
     "output_type": "stream",
     "text": [
      "Processed: Harbin, China\n",
      "Processed: Zhengzhou, China\n",
      "Processed: Hong Kong, China\n",
      "Processed: Wuhan, China\n",
      "Processed: Changsha, China\n",
      "Processed: Hohhot, China\n",
      "Processed: Nanjing, China\n",
      "Processed: Nanchang, China\n"
     ]
    },
    {
     "name": "stderr",
     "output_type": "stream",
     "text": [
      "/Users/ssaishiva/Downloads/Capital_Scrapper/shiva_env/lib/python3.12/site-packages/osmnx/_overpass.py:267: UserWarning: This area is 14 times your configured Overpass max query area size. It will automatically be divided up into multiple sub-queries accordingly. This may take a long time.\n",
      "  multi_poly_proj = utils_geo._consolidate_subdivide_geometry(poly_proj)\n"
     ]
    },
    {
     "name": "stdout",
     "output_type": "stream",
     "text": [
      "Processed: Changchun, China\n",
      "Processed: Shenyang, China\n",
      "Processed: Macau, China\n",
      "Processed: Yinchuan, China\n",
      "Processed: Xining, China\n",
      "Processed: Xi'an, China\n",
      "Processed: Jinan, China\n"
     ]
    },
    {
     "name": "stderr",
     "output_type": "stream",
     "text": [
      "/Users/ssaishiva/Downloads/Capital_Scrapper/shiva_env/lib/python3.12/site-packages/osmnx/_overpass.py:267: UserWarning: This area is 28 times your configured Overpass max query area size. It will automatically be divided up into multiple sub-queries accordingly. This may take a long time.\n",
      "  multi_poly_proj = utils_geo._consolidate_subdivide_geometry(poly_proj)\n"
     ]
    },
    {
     "name": "stdout",
     "output_type": "stream",
     "text": [
      "Processed: Shanghai, China\n",
      "Processed: Taiyuan, China\n",
      "Processed: Chengdu, China\n"
     ]
    },
    {
     "name": "stderr",
     "output_type": "stream",
     "text": [
      "/Users/ssaishiva/Downloads/Capital_Scrapper/shiva_env/lib/python3.12/site-packages/osmnx/_overpass.py:267: UserWarning: This area is 17 times your configured Overpass max query area size. It will automatically be divided up into multiple sub-queries accordingly. This may take a long time.\n",
      "  multi_poly_proj = utils_geo._consolidate_subdivide_geometry(poly_proj)\n"
     ]
    },
    {
     "name": "stdout",
     "output_type": "stream",
     "text": [
      "Processed: Tianjin, China\n"
     ]
    },
    {
     "name": "stderr",
     "output_type": "stream",
     "text": [
      "/Users/ssaishiva/Downloads/Capital_Scrapper/shiva_env/lib/python3.12/site-packages/osmnx/_overpass.py:267: UserWarning: This area is 45 times your configured Overpass max query area size. It will automatically be divided up into multiple sub-queries accordingly. This may take a long time.\n",
      "  multi_poly_proj = utils_geo._consolidate_subdivide_geometry(poly_proj)\n"
     ]
    },
    {
     "name": "stdout",
     "output_type": "stream",
     "text": [
      "Processed: Lhasa, China\n",
      "Processed: Ürümqi, China\n"
     ]
    },
    {
     "name": "stderr",
     "output_type": "stream",
     "text": [
      "/Users/ssaishiva/Downloads/Capital_Scrapper/shiva_env/lib/python3.12/site-packages/osmnx/_overpass.py:267: UserWarning: This area is 11 times your configured Overpass max query area size. It will automatically be divided up into multiple sub-queries accordingly. This may take a long time.\n",
      "  multi_poly_proj = utils_geo._consolidate_subdivide_geometry(poly_proj)\n"
     ]
    },
    {
     "name": "stdout",
     "output_type": "stream",
     "text": [
      "Processed: Kunming, China\n",
      "Processed: Hangzhou, China\n",
      "Processed: Barisal, Bangladesh\n"
     ]
    },
    {
     "name": "stderr",
     "output_type": "stream",
     "text": [
      "/Users/ssaishiva/Downloads/Capital_Scrapper/shiva_env/lib/python3.12/site-packages/osmnx/_overpass.py:267: UserWarning: This area is 26 times your configured Overpass max query area size. It will automatically be divided up into multiple sub-queries accordingly. This may take a long time.\n",
      "  multi_poly_proj = utils_geo._consolidate_subdivide_geometry(poly_proj)\n"
     ]
    },
    {
     "name": "stdout",
     "output_type": "stream",
     "text": [
      "Processed: Chittagong, Bangladesh\n"
     ]
    },
    {
     "name": "stderr",
     "output_type": "stream",
     "text": [
      "/Users/ssaishiva/Downloads/Capital_Scrapper/shiva_env/lib/python3.12/site-packages/osmnx/_overpass.py:267: UserWarning: This area is 11 times your configured Overpass max query area size. It will automatically be divided up into multiple sub-queries accordingly. This may take a long time.\n",
      "  multi_poly_proj = utils_geo._consolidate_subdivide_geometry(poly_proj)\n"
     ]
    },
    {
     "name": "stdout",
     "output_type": "stream",
     "text": [
      "Processed: Dhaka, Bangladesh\n"
     ]
    },
    {
     "name": "stderr",
     "output_type": "stream",
     "text": [
      "/Users/ssaishiva/Downloads/Capital_Scrapper/shiva_env/lib/python3.12/site-packages/osmnx/_overpass.py:267: UserWarning: This area is 12 times your configured Overpass max query area size. It will automatically be divided up into multiple sub-queries accordingly. This may take a long time.\n",
      "  multi_poly_proj = utils_geo._consolidate_subdivide_geometry(poly_proj)\n"
     ]
    },
    {
     "name": "stdout",
     "output_type": "stream",
     "text": [
      "Processed: Khulna, Bangladesh\n",
      "Processed: Mymensingh, Bangladesh\n",
      "Processed: Rajshahi, Bangladesh\n",
      "Processed: Rangpur, Bangladesh\n",
      "Processed: Sylhet, Bangladesh\n",
      "Processed: Fayzabad, Afghanistan\n",
      "Processed: Qala i Naw, Afghanistan\n",
      "Skipping Puli Khumri, Afghanistan due to error: Nominatim did not geocode query 'Puli Khumri, Afghanistan' to a geometry of type (Multi)Polygon.\n",
      "Processed: Mazar-i-Sharif, Afghanistan\n",
      "Processed: Bamyan, Afghanistan\n",
      "Processed: Nili, Afghanistan\n"
     ]
    },
    {
     "name": "stderr",
     "output_type": "stream",
     "text": [
      "/Users/ssaishiva/Downloads/Capital_Scrapper/shiva_env/lib/python3.12/site-packages/osmnx/_overpass.py:267: UserWarning: This area is 26 times your configured Overpass max query area size. It will automatically be divided up into multiple sub-queries accordingly. This may take a long time.\n",
      "  multi_poly_proj = utils_geo._consolidate_subdivide_geometry(poly_proj)\n"
     ]
    },
    {
     "name": "stdout",
     "output_type": "stream",
     "text": [
      "Processed: Farah, Afghanistan\n",
      "Skipping Maymana, Afghanistan due to error: Found no graph nodes within the requested polygon.\n"
     ]
    },
    {
     "name": "stderr",
     "output_type": "stream",
     "text": [
      "/Users/ssaishiva/Downloads/Capital_Scrapper/shiva_env/lib/python3.12/site-packages/osmnx/_overpass.py:267: UserWarning: This area is 12 times your configured Overpass max query area size. It will automatically be divided up into multiple sub-queries accordingly. This may take a long time.\n",
      "  multi_poly_proj = utils_geo._consolidate_subdivide_geometry(poly_proj)\n"
     ]
    },
    {
     "name": "stdout",
     "output_type": "stream",
     "text": [
      "Processed: Ghazni, Afghanistan\n",
      "Processed: Chaghcharan, Afghanistan\n",
      "Processed: Lashkargah, Afghanistan\n"
     ]
    },
    {
     "name": "stderr",
     "output_type": "stream",
     "text": [
      "/Users/ssaishiva/Downloads/Capital_Scrapper/shiva_env/lib/python3.12/site-packages/osmnx/_overpass.py:267: UserWarning: This area is 28 times your configured Overpass max query area size. It will automatically be divided up into multiple sub-queries accordingly. This may take a long time.\n",
      "  multi_poly_proj = utils_geo._consolidate_subdivide_geometry(poly_proj)\n"
     ]
    },
    {
     "name": "stdout",
     "output_type": "stream",
     "text": [
      "Processed: Herat, Afghanistan\n",
      "Processed: Sheberghan, Afghanistan\n",
      "Processed: Kabul, Afghanistan\n"
     ]
    },
    {
     "name": "stderr",
     "output_type": "stream",
     "text": [
      "/Users/ssaishiva/Downloads/Capital_Scrapper/shiva_env/lib/python3.12/site-packages/osmnx/_overpass.py:267: UserWarning: This area is 28 times your configured Overpass max query area size. It will automatically be divided up into multiple sub-queries accordingly. This may take a long time.\n",
      "  multi_poly_proj = utils_geo._consolidate_subdivide_geometry(poly_proj)\n"
     ]
    },
    {
     "name": "stdout",
     "output_type": "stream",
     "text": [
      "Processed: Kandahar, Afghanistan\n",
      "Skipping Mahmud-i-Raqi, Afghanistan due to error: Nominatim did not geocode query 'Mahmud-i-Raqi, Afghanistan' to a geometry of type (Multi)Polygon.\n",
      "Processed: Khost, Afghanistan\n",
      "Processed: Asadabad, Afghanistan\n",
      "Processed: Kunduz, Afghanistan\n",
      "Processed: Mihtarlam, Afghanistan\n",
      "Processed: Pul-i-Alam, Afghanistan\n",
      "Processed: Jalalabad, Afghanistan\n",
      "Processed: Zaranj, Afghanistan\n",
      "Processed: Parun, Afghanistan\n",
      "Processed: Gardez, Afghanistan\n",
      "Processed: Sharana, Afghanistan\n",
      "Skipping Bazarak, Afghanistan due to error: Found no graph nodes within the requested polygon.\n",
      "Processed: Charikar, Afghanistan\n",
      "Processed: Aybak, Afghanistan\n",
      "Processed: Sar-e Pol, Afghanistan\n",
      "Skipping Taloqan, Afghanistan due to error: Nominatim did not geocode query 'Taloqan, Afghanistan' to a geometry of type (Multi)Polygon.\n",
      "Processed: Tarinkot, Afghanistan\n",
      "Processed: Maidan Shar, Afghanistan\n",
      "Processed: Quetta, Pakistan\n",
      "Processed: Islamabad, Pakistan\n",
      "Processed: Peshawar, Pakistan\n",
      "Skipping Lahore, Pakistan due to error: Nominatim did not geocode query 'Lahore, Pakistan' to a geometry of type (Multi)Polygon.\n",
      "Processed: Karachi, Pakistan\n",
      "Processed: Banda Aceh, Indonesia\n",
      "Processed: Medan, Indonesia\n",
      "Processed: Padang, Indonesia\n",
      "Processed: Pekanbaru, Indonesia\n"
     ]
    },
    {
     "name": "stderr",
     "output_type": "stream",
     "text": [
      "/Users/ssaishiva/Downloads/Capital_Scrapper/shiva_env/lib/python3.12/site-packages/osmnx/_overpass.py:267: UserWarning: This area is 28 times your configured Overpass max query area size. It will automatically be divided up into multiple sub-queries accordingly. This may take a long time.\n",
      "  multi_poly_proj = utils_geo._consolidate_subdivide_geometry(poly_proj)\n"
     ]
    },
    {
     "name": "stdout",
     "output_type": "stream",
     "text": [
      "Processed: Jambi, Indonesia\n",
      "Processed: Palembang, Indonesia\n"
     ]
    },
    {
     "name": "stderr",
     "output_type": "stream",
     "text": [
      "/Users/ssaishiva/Downloads/Capital_Scrapper/shiva_env/lib/python3.12/site-packages/osmnx/_overpass.py:267: UserWarning: This area is 33 times your configured Overpass max query area size. It will automatically be divided up into multiple sub-queries accordingly. This may take a long time.\n",
      "  multi_poly_proj = utils_geo._consolidate_subdivide_geometry(poly_proj)\n"
     ]
    },
    {
     "name": "stdout",
     "output_type": "stream",
     "text": [
      "Processed: Bengkulu, Indonesia\n",
      "Processed: Bandar Lampung, Indonesia\n",
      "Processed: Pangkal Pinang, Indonesia\n",
      "Processed: Tanjung Pinang, Indonesia\n",
      "Processed: Central Jakarta, Indonesia\n",
      "Processed: Bandung, Indonesia\n",
      "Processed: Semarang, Indonesia\n",
      "Processed: Yogyakarta, Indonesia\n",
      "Processed: Surabaya, Indonesia\n",
      "Processed: Serang, Indonesia\n",
      "Processed: Denpasar, Indonesia\n",
      "Processed: Mataram, Indonesia\n",
      "Processed: Kupang, Indonesia\n",
      "Processed: Pontianak, Indonesia\n",
      "Processed: Palangka Raya, Indonesia\n",
      "Processed: Banjarbaru, Indonesia\n",
      "Processed: Samarinda, Indonesia\n",
      "Skipping Tanjung Selor, Indonesia due to error: Nominatim did not geocode query 'Tanjung Selor, Indonesia' to a geometry of type (Multi)Polygon.\n",
      "Processed: Manado, Indonesia\n",
      "Processed: Palu, Indonesia\n",
      "Processed: Makassar, Indonesia\n",
      "Processed: Kendari, Indonesia\n"
     ]
    },
    {
     "name": "stderr",
     "output_type": "stream",
     "text": [
      "/Users/ssaishiva/Downloads/Capital_Scrapper/shiva_env/lib/python3.12/site-packages/osmnx/_overpass.py:267: UserWarning: This area is 12 times your configured Overpass max query area size. It will automatically be divided up into multiple sub-queries accordingly. This may take a long time.\n",
      "  multi_poly_proj = utils_geo._consolidate_subdivide_geometry(poly_proj)\n"
     ]
    },
    {
     "name": "stdout",
     "output_type": "stream",
     "text": [
      "Processed: Gorontalo, Indonesia\n",
      "Processed: Mamuju, Indonesia\n",
      "Processed: Ambon, Indonesia\n",
      "Processed: Sofifi, Indonesia\n",
      "Processed: Manokwari, Indonesia\n",
      "Processed: Sorong, Indonesia\n",
      "Processed: Jayapura, Indonesia\n",
      "Processed: Salor, Indonesia\n",
      "Skipping Wanggar, Indonesia due to error: Nominatim did not geocode query 'Wanggar, Indonesia' to a geometry of type (Multi)Polygon.\n",
      "Processed: Jayawijaya, Indonesia\n",
      "Processed: Akita, Japan\n",
      "Processed: Aomori, Japan\n",
      "Processed: Chiba, Japan\n",
      "Processed: Fukui, Japan\n",
      "Processed: Fukuoka, Japan\n",
      "Processed: Fukushima, Japan\n",
      "Processed: Gifu, Japan\n",
      "Processed: Hiroshima, Japan\n"
     ]
    },
    {
     "name": "stderr",
     "output_type": "stream",
     "text": [
      "/Users/ssaishiva/Downloads/Capital_Scrapper/shiva_env/lib/python3.12/site-packages/osmnx/_overpass.py:267: UserWarning: This area is 42 times your configured Overpass max query area size. It will automatically be divided up into multiple sub-queries accordingly. This may take a long time.\n",
      "  multi_poly_proj = utils_geo._consolidate_subdivide_geometry(poly_proj)\n"
     ]
    },
    {
     "name": "stdout",
     "output_type": "stream",
     "text": [
      "Processed: Kagoshima, Japan\n",
      "Processed: Kanazawa, Japan\n",
      "Skipping KobeKōbe, Japan due to error: Nominatim geocoder returned 0 results for query 'KobeKōbe, Japan'.\n",
      "Skipping KochiKōchi, Japan due to error: Nominatim geocoder returned 0 results for query 'KochiKōchi, Japan'.\n",
      "Skipping KofuKōfu, Japan due to error: Nominatim geocoder returned 0 results for query 'KofuKōfu, Japan'.\n",
      "Processed: Kumamoto, Japan\n",
      "Processed: Kyōto, Japan\n",
      "Processed: Maebashi, Japan\n",
      "Processed: Matsue, Japan\n",
      "Processed: Matsuyama, Japan\n",
      "Processed: Mito, Japan\n",
      "Processed: Miyazaki, Japan\n",
      "Processed: Morioka, Japan\n",
      "Processed: Nagano, Japan\n"
     ]
    },
    {
     "name": "stderr",
     "output_type": "stream",
     "text": [
      "/Users/ssaishiva/Downloads/Capital_Scrapper/shiva_env/lib/python3.12/site-packages/osmnx/_overpass.py:267: UserWarning: This area is 16 times your configured Overpass max query area size. It will automatically be divided up into multiple sub-queries accordingly. This may take a long time.\n",
      "  multi_poly_proj = utils_geo._consolidate_subdivide_geometry(poly_proj)\n"
     ]
    },
    {
     "name": "stdout",
     "output_type": "stream",
     "text": [
      "Processed: Nagasaki, Japan\n",
      "Processed: Nagoya, Japan\n",
      "Processed: Naha, Japan\n",
      "Processed: Nara, Japan\n"
     ]
    },
    {
     "name": "stderr",
     "output_type": "stream",
     "text": [
      "/Users/ssaishiva/Downloads/Capital_Scrapper/shiva_env/lib/python3.12/site-packages/osmnx/_overpass.py:267: UserWarning: This area is 14 times your configured Overpass max query area size. It will automatically be divided up into multiple sub-queries accordingly. This may take a long time.\n",
      "  multi_poly_proj = utils_geo._consolidate_subdivide_geometry(poly_proj)\n"
     ]
    },
    {
     "name": "stdout",
     "output_type": "stream",
     "text": [
      "Processed: Niigata, Japan\n",
      "Skipping OitaŌita, Japan due to error: Nominatim geocoder returned 0 results for query 'OitaŌita, Japan'.\n",
      "Processed: Okayama, Japan\n",
      "Processed: Ōsaka, Japan\n",
      "Skipping OtsuŌtsu, Japan due to error: Nominatim geocoder returned 0 results for query 'OtsuŌtsu, Japan'.\n",
      "Processed: Saga, Japan\n",
      "Processed: Saitama, Japan\n",
      "Processed: Sapporo, Japan\n",
      "Processed: Sendai, Japan\n",
      "Processed: Shinjuku, Japan\n",
      "Processed: Shizuoka, Japan\n",
      "Processed: Takamatsu, Japan\n",
      "Processed: Tokushima, Japan\n",
      "Processed: Tottori, Japan\n",
      "Processed: Toyama, Japan\n",
      "Processed: Tsu, Japan\n",
      "Processed: Utsunomiya, Japan\n",
      "Processed: Wakayama, Japan\n",
      "Processed: Yamagata, Japan\n",
      "Processed: Yamaguchi, Japan\n",
      "Processed: Yokohama, Japan\n",
      "Processed: Karaj, Iran\n",
      "Processed: Ardabil, Iran\n"
     ]
    },
    {
     "name": "stderr",
     "output_type": "stream",
     "text": [
      "/Users/ssaishiva/Downloads/Capital_Scrapper/shiva_env/lib/python3.12/site-packages/osmnx/_overpass.py:267: UserWarning: This area is 25 times your configured Overpass max query area size. It will automatically be divided up into multiple sub-queries accordingly. This may take a long time.\n",
      "  multi_poly_proj = utils_geo._consolidate_subdivide_geometry(poly_proj)\n"
     ]
    },
    {
     "name": "stdout",
     "output_type": "stream",
     "text": [
      "Processed: Bushehr, Iran\n",
      "Processed: Shahr-e Kord, Iran\n",
      "Processed: Tabriz, Iran\n",
      "Processed: Shiraz, Iran\n",
      "Processed: Rasht, Iran\n",
      "Processed: Gorgan, Iran\n",
      "Processed: Hamadan, Iran\n",
      "Processed: Bandar Abbas, Iran\n"
     ]
    },
    {
     "name": "stderr",
     "output_type": "stream",
     "text": [
      "/Users/ssaishiva/Downloads/Capital_Scrapper/shiva_env/lib/python3.12/site-packages/osmnx/_overpass.py:267: UserWarning: This area is 12 times your configured Overpass max query area size. It will automatically be divided up into multiple sub-queries accordingly. This may take a long time.\n",
      "  multi_poly_proj = utils_geo._consolidate_subdivide_geometry(poly_proj)\n"
     ]
    },
    {
     "name": "stdout",
     "output_type": "stream",
     "text": [
      "Processed: Ilam, Iran\n",
      "Processed: Isfahan, Iran\n"
     ]
    },
    {
     "name": "stderr",
     "output_type": "stream",
     "text": [
      "/Users/ssaishiva/Downloads/Capital_Scrapper/shiva_env/lib/python3.12/site-packages/osmnx/_overpass.py:267: UserWarning: This area is 83 times your configured Overpass max query area size. It will automatically be divided up into multiple sub-queries accordingly. This may take a long time.\n",
      "  multi_poly_proj = utils_geo._consolidate_subdivide_geometry(poly_proj)\n"
     ]
    },
    {
     "name": "stdout",
     "output_type": "stream",
     "text": [
      "Processed: Kerman, Iran\n"
     ]
    },
    {
     "name": "stderr",
     "output_type": "stream",
     "text": [
      "/Users/ssaishiva/Downloads/Capital_Scrapper/shiva_env/lib/python3.12/site-packages/osmnx/_overpass.py:267: UserWarning: This area is 13 times your configured Overpass max query area size. It will automatically be divided up into multiple sub-queries accordingly. This may take a long time.\n",
      "  multi_poly_proj = utils_geo._consolidate_subdivide_geometry(poly_proj)\n"
     ]
    },
    {
     "name": "stdout",
     "output_type": "stream",
     "text": [
      "Processed: Kermanshah, Iran\n",
      "Processed: Ahvaz, Iran\n",
      "Processed: Yasuj, Iran\n",
      "Processed: Sanandaj, Iran\n",
      "Processed: Khorramabad, Iran\n",
      "Processed: Arak, Iran\n",
      "Processed: Sari, Iran\n",
      "Processed: Bojnord, Iran\n",
      "Processed: Qazvin, Iran\n",
      "Processed: Qom, Iran\n",
      "Processed: Mashhad, Iran\n"
     ]
    },
    {
     "name": "stderr",
     "output_type": "stream",
     "text": [
      "/Users/ssaishiva/Downloads/Capital_Scrapper/shiva_env/lib/python3.12/site-packages/osmnx/_overpass.py:267: UserWarning: This area is 45 times your configured Overpass max query area size. It will automatically be divided up into multiple sub-queries accordingly. This may take a long time.\n",
      "  multi_poly_proj = utils_geo._consolidate_subdivide_geometry(poly_proj)\n"
     ]
    },
    {
     "name": "stdout",
     "output_type": "stream",
     "text": [
      "Processed: Semnan, Iran\n",
      "Processed: Zahedan, Iran\n",
      "Processed: Birjand, Iran\n",
      "Processed: Tehran, Iran\n",
      "Processed: Urmia, Iran\n"
     ]
    },
    {
     "name": "stderr",
     "output_type": "stream",
     "text": [
      "/Users/ssaishiva/Downloads/Capital_Scrapper/shiva_env/lib/python3.12/site-packages/osmnx/_overpass.py:267: UserWarning: This area is 38 times your configured Overpass max query area size. It will automatically be divided up into multiple sub-queries accordingly. This may take a long time.\n",
      "  multi_poly_proj = utils_geo._consolidate_subdivide_geometry(poly_proj)\n"
     ]
    },
    {
     "name": "stdout",
     "output_type": "stream",
     "text": [
      "Processed: Yazd, Iran\n",
      "Processed: Zanjan, Iran\n",
      "Processed: Tehran, Iran\n",
      "Processed: Bangkok, Thailand\n",
      "Processed: Amnat Charoen, Thailand\n",
      "Processed: Ang Thong, Thailand\n",
      "Processed: Bueng Kan, Thailand\n",
      "Processed: Buriram, Thailand\n",
      "Processed: Chachoengsao, Thailand\n",
      "Processed: Chai Nat, Thailand\n",
      "Processed: Chaiyaphum, Thailand\n",
      "Processed: Chanthaburi, Thailand\n",
      "Processed: Chiang Mai, Thailand\n",
      "Processed: Chiang Rai, Thailand\n",
      "Processed: Chonburi, Thailand\n",
      "Processed: Chumphon, Thailand\n",
      "Processed: Kalasin, Thailand\n",
      "Processed: Kamphaeng Phet, Thailand\n",
      "Processed: Kanchanaburi, Thailand\n",
      "Processed: Khon Kaen, Thailand\n",
      "Processed: Krabi, Thailand\n",
      "Processed: Lampang, Thailand\n",
      "Processed: Lamphun, Thailand\n",
      "Processed: Loei, Thailand\n",
      "Processed: Lopburi, Thailand\n",
      "Processed: Mae Hong Son, Thailand\n",
      "Processed: Maha Sarakham, Thailand\n",
      "Processed: Mukdahan, Thailand\n",
      "Skipping Nakhon Nayok City, Thailand due to error: Found no graph nodes within the requested polygon.\n",
      "Skipping Mueang Nakhon Pathom, Thailand due to error: Nominatim geocoder returned 0 results for query 'Mueang Nakhon Pathom, Thailand'.\n",
      "Processed: Nakhon Phanom, Thailand\n",
      "Processed: Nakhon Ratchasima, Thailand\n",
      "Processed: Nakhon Sawan, Thailand\n",
      "Processed: Nakhon Si Thammarat, Thailand\n",
      "Processed: Nan, Thailand\n",
      "Processed: Narathiwat, Thailand\n",
      "Skipping Nong Bua Lam Phu, Thailand due to error: Nominatim did not geocode query 'Nong Bua Lam Phu, Thailand' to a geometry of type (Multi)Polygon.\n",
      "Processed: Nong Khai, Thailand\n",
      "Processed: Nonthaburi, Thailand\n",
      "Processed: Pathum Thani, Thailand\n",
      "Processed: Pattani, Thailand\n",
      "Processed: Phang Nga, Thailand\n",
      "Processed: Phatthalung, Thailand\n",
      "Processed: Phayao, Thailand\n",
      "Processed: Phetchabun, Thailand\n",
      "Processed: Phetchaburi, Thailand\n",
      "Processed: Phichit, Thailand\n",
      "Processed: Phitsanulok, Thailand\n",
      "Processed: Ayutthaya, Thailand\n",
      "Processed: Phrae, Thailand\n",
      "Processed: Phuket, Thailand\n",
      "Processed: Prachinburi, Thailand\n",
      "Processed: Prachuap Khiri Khan, Thailand\n",
      "Processed: Ranong, Thailand\n",
      "Processed: Ratchaburi, Thailand\n",
      "Processed: Rayong, Thailand\n",
      "Processed: Roi Et, Thailand\n",
      "Processed: Sa Kaeo, Thailand\n",
      "Processed: Sakon Nakhon, Thailand\n",
      "Processed: Mueang Samut Prakan, Thailand\n",
      "Skipping Mueang Samut Sakhon, Thailand due to error: Graph contains no edges.\n",
      "Processed: Samut Songkhram, Thailand\n",
      "Processed: Saraburi, Thailand\n",
      "Processed: Satun, Thailand\n",
      "Processed: Sing Buri, Thailand\n",
      "Processed: Sisaket, Thailand\n",
      "Processed: Songkhla, Thailand\n",
      "Skipping Sukhothai Thani, Thailand due to error: Nominatim did not geocode query 'Sukhothai Thani, Thailand' to a geometry of type (Multi)Polygon.\n",
      "Processed: Suphan Buri, Thailand\n"
     ]
    },
    {
     "name": "stderr",
     "output_type": "stream",
     "text": [
      "/Users/ssaishiva/Downloads/Capital_Scrapper/shiva_env/lib/python3.12/site-packages/osmnx/_overpass.py:267: UserWarning: This area is 11 times your configured Overpass max query area size. It will automatically be divided up into multiple sub-queries accordingly. This may take a long time.\n",
      "  multi_poly_proj = utils_geo._consolidate_subdivide_geometry(poly_proj)\n"
     ]
    },
    {
     "name": "stdout",
     "output_type": "stream",
     "text": [
      "Processed: Surat Thani, Thailand\n",
      "Processed: Surin, Thailand\n",
      "Processed: Tak, Thailand\n",
      "Processed: Trang, Thailand\n",
      "Processed: Trat, Thailand\n",
      "Processed: Mueang Ubon Ratchathani, Thailand\n",
      "Processed: Udon Thani, Thailand\n",
      "Processed: Uthai Thani, Thailand\n",
      "Processed: Uttaradit, Thailand\n",
      "Processed: Yala, Thailand\n",
      "Processed: Yasothon, Thailand\n",
      "Processed: Johor Bahru, Malaysia\n",
      "Skipping Alor Setar, Malaysia due to error: Nominatim did not geocode query 'Alor Setar, Malaysia' to a geometry of type (Multi)Polygon.\n",
      "Processed: Kota Bharu, Malaysia\n",
      "Skipping Malacca City, Malaysia due to error: Nominatim did not geocode query 'Malacca City, Malaysia' to a geometry of type (Multi)Polygon.\n",
      "Processed: Seremban, Malaysia\n",
      "Processed: Kuantan, Malaysia\n",
      "Processed: George Town, Malaysia\n",
      "Skipping Ipoh, Malaysia due to error: Nominatim did not geocode query 'Ipoh, Malaysia' to a geometry of type (Multi)Polygon.\n",
      "Skipping Kangar, Malaysia due to error: Nominatim did not geocode query 'Kangar, Malaysia' to a geometry of type (Multi)Polygon.\n",
      "Processed: Shah Alam, Malaysia\n",
      "Processed: Kuala Terengganu, Malaysia\n",
      "Processed: Kandy, Srilanka\n",
      "Skipping Trincomalee, Srilanka due to error: Nominatim did not geocode query 'Trincomalee, Srilanka' to a geometry of type (Multi)Polygon.\n",
      "Processed: Anuradhapura, Srilanka\n",
      "Skipping Jaffna, Srilanka due to error: Nominatim did not geocode query 'Jaffna, Srilanka' to a geometry of type (Multi)Polygon.\n",
      "Processed: Kurunegala, Srilanka\n",
      "Processed: Ratnapura, Srilanka\n",
      "Processed: Galle, Srilanka\n",
      "Processed: Badulla, Srilanka\n",
      "Processed: Colombo, Srilanka\n",
      "Processed: Abu Dhabi, United Arab Emirates\n",
      "Processed: Ajman, United Arab Emirates\n",
      "Processed: Dubai, United Arab Emirates\n",
      "Processed: Fujairah, United Arab Emirates\n",
      "Processed: Ras Al Khaimah, United Arab Emirates\n",
      "Processed: Sharjah, United Arab Emirates\n",
      "Processed: Umm Al Quwain, United Arab Emirates\n",
      "Processed: Serei Saophoan Municipality, Cambodia\n",
      "Processed: Battambang Municipality, Cambodia\n",
      "Skipping Kampong Cham Municipality, Cambodia due to error: Nominatim geocoder returned 0 results for query 'Kampong Cham Municipality, Cambodia'.\n",
      "Skipping Kampong Chhnang Municipality, Cambodia due to error: Nominatim geocoder returned 0 results for query 'Kampong Chhnang Municipality, Cambodia'.\n",
      "Skipping Chbar Mon Municipality, Cambodia due to error: Nominatim geocoder returned 0 results for query 'Chbar Mon Municipality, Cambodia'.\n",
      "Skipping Steung Saen Municipality, Cambodia due to error: Nominatim geocoder returned 0 results for query 'Steung Saen Municipality, Cambodia'.\n",
      "Skipping Kampot Municipality, Cambodia due to error: Nominatim did not geocode query 'Kampot Municipality, Cambodia' to a geometry of type (Multi)Polygon.\n",
      "Skipping Ta Khmau Municipality, Cambodia due to error: Nominatim did not geocode query 'Ta Khmau Municipality, Cambodia' to a geometry of type (Multi)Polygon.\n",
      "Processed: Kep Municipality, Cambodia\n",
      "Processed: Khemarak Phoumin Municipality, Cambodia\n",
      "Skipping Kratié Municipality, Cambodia due to error: Found no graph nodes within the requested polygon.\n",
      "Skipping Senmonorom Municipality, Cambodia due to error: Nominatim did not geocode query 'Senmonorom Municipality, Cambodia' to a geometry of type (Multi)Polygon.\n",
      "Processed: Samraong Municipality, Cambodia\n",
      "Processed: Pailin Municipality, Cambodia\n",
      "Skipping Doun Penh Section, Cambodia due to error: Nominatim geocoder returned 0 results for query 'Doun Penh Section, Cambodia'.\n",
      "Skipping Sihanoukville Municipality, Cambodia due to error: Found no graph nodes within the requested polygon.\n",
      "Skipping Tbaeng Meanchey Municipality, Cambodia due to error: Nominatim geocoder returned 0 results for query 'Tbaeng Meanchey Municipality, Cambodia'.\n",
      "Processed: Prey Veng Municipality, Cambodia\n",
      "Processed: Pursat Municipality, Cambodia\n",
      "Skipping Banlung Municipality, Cambodia due to error: Nominatim did not geocode query 'Banlung Municipality, Cambodia' to a geometry of type (Multi)Polygon.\n",
      "Processed: Siem Reap Municipality, Cambodia\n",
      "Skipping Stung Treng Municipality, Cambodia due to error: Nominatim did not geocode query 'Stung Treng Municipality, Cambodia' to a geometry of type (Multi)Polygon.\n",
      "Processed: Svay Rieng Municipality, Cambodia\n",
      "Processed: Doun Kaev Municipality, Cambodia\n",
      "Skipping Suong Municipality, Cambodia due to error: Nominatim geocoder returned 0 results for query 'Suong Municipality, Cambodia'.\n",
      "Processed: Kanggye, North Korea\n",
      "Processed: Chongjin, North Korea\n",
      "Processed: Hamhung, North Korea\n",
      "Processed: Sariwon, North Korea\n",
      "Processed: Haeju, North Korea\n",
      "Processed: Wonsan, North Korea\n",
      "Processed: Sinuiju, North Korea\n",
      "Processed: Pyongsong, North Korea\n",
      "Processed: Hyesan, North Korea\n",
      "Processed: Andong, South Korea\n",
      "Processed: Busan, South Korea\n",
      "Processed: Changwon, South Korea\n",
      "Processed: Cheongju, South Korea\n",
      "Processed: Chuncheon, South Korea\n",
      "Processed: Daegu, South Korea\n",
      "Processed: Daejeon, South Korea\n",
      "Processed: Gwangju, South Korea\n",
      "Processed: Hongseong, South Korea\n",
      "Processed: Incheon, South Korea\n",
      "Processed: Jeju, South Korea\n",
      "Processed: Jeonju, South Korea\n",
      "Processed: Muan, South Korea\n",
      "Processed: Sejong, South Korea\n",
      "Processed: Seoul, South Korea\n",
      "Processed: Suwon, South Korea\n",
      "Processed: Ulsan, South Korea\n"
     ]
    },
    {
     "name": "stderr",
     "output_type": "stream",
     "text": [
      "/Users/ssaishiva/Downloads/Capital_Scrapper/shiva_env/lib/python3.12/site-packages/osmnx/_overpass.py:267: UserWarning: This area is 12 times your configured Overpass max query area size. It will automatically be divided up into multiple sub-queries accordingly. This may take a long time.\n",
      "  multi_poly_proj = utils_geo._consolidate_subdivide_geometry(poly_proj)\n"
     ]
    },
    {
     "name": "stdout",
     "output_type": "stream",
     "text": [
      "Processed: Abha, Saudi Arabia\n",
      "Processed: Al Bahah, Saudi Arabia\n"
     ]
    },
    {
     "name": "stderr",
     "output_type": "stream",
     "text": [
      "/Users/ssaishiva/Downloads/Capital_Scrapper/shiva_env/lib/python3.12/site-packages/osmnx/_overpass.py:267: UserWarning: This area is 15 times your configured Overpass max query area size. It will automatically be divided up into multiple sub-queries accordingly. This may take a long time.\n",
      "  multi_poly_proj = utils_geo._consolidate_subdivide_geometry(poly_proj)\n"
     ]
    },
    {
     "name": "stdout",
     "output_type": "stream",
     "text": [
      "Processed: Sakaka, Saudi Arabia\n",
      "Skipping Buraidah, Saudi Arabia due to error: Nominatim did not geocode query 'Buraidah, Saudi Arabia' to a geometry of type (Multi)Polygon.\n",
      "Skipping Dammam, Saudi Arabia due to error: Nominatim did not geocode query 'Dammam, Saudi Arabia' to a geometry of type (Multi)Polygon.\n",
      "Processed: Jazan, Saudi Arabia\n",
      "Processed: Makkah, Saudi Arabia\n",
      "Skipping Madinah, Saudi Arabia due to error: Nominatim did not geocode query 'Madinah, Saudi Arabia' to a geometry of type (Multi)Polygon.\n"
     ]
    },
    {
     "name": "stderr",
     "output_type": "stream",
     "text": [
      "/Users/ssaishiva/Downloads/Capital_Scrapper/shiva_env/lib/python3.12/site-packages/osmnx/_overpass.py:267: UserWarning: This area is 67 times your configured Overpass max query area size. It will automatically be divided up into multiple sub-queries accordingly. This may take a long time.\n",
      "  multi_poly_proj = utils_geo._consolidate_subdivide_geometry(poly_proj)\n"
     ]
    },
    {
     "name": "stdout",
     "output_type": "stream",
     "text": [
      "Processed: Najran, Saudi Arabia\n",
      "Processed: Arar, Saudi Arabia\n"
     ]
    },
    {
     "name": "stderr",
     "output_type": "stream",
     "text": [
      "/Users/ssaishiva/Downloads/Capital_Scrapper/shiva_env/lib/python3.12/site-packages/osmnx/_overpass.py:267: UserWarning: This area is 180 times your configured Overpass max query area size. It will automatically be divided up into multiple sub-queries accordingly. This may take a long time.\n",
      "  multi_poly_proj = utils_geo._consolidate_subdivide_geometry(poly_proj)\n"
     ]
    },
    {
     "name": "stdout",
     "output_type": "stream",
     "text": [
      "Processed: Riyadh, Saudi Arabia\n"
     ]
    },
    {
     "name": "stderr",
     "output_type": "stream",
     "text": [
      "/Users/ssaishiva/Downloads/Capital_Scrapper/shiva_env/lib/python3.12/site-packages/osmnx/_overpass.py:267: UserWarning: This area is 79 times your configured Overpass max query area size. It will automatically be divided up into multiple sub-queries accordingly. This may take a long time.\n",
      "  multi_poly_proj = utils_geo._consolidate_subdivide_geometry(poly_proj)\n"
     ]
    },
    {
     "name": "stdout",
     "output_type": "stream",
     "text": [
      "Processed: Tabuk, Saudi Arabia\n",
      "Processed: Irbid, Jordan\n",
      "Processed: Ajloun, Jordan\n",
      "Processed: Jerash, Jordan\n"
     ]
    },
    {
     "name": "stderr",
     "output_type": "stream",
     "text": [
      "/Users/ssaishiva/Downloads/Capital_Scrapper/shiva_env/lib/python3.12/site-packages/osmnx/_overpass.py:267: UserWarning: This area is 13 times your configured Overpass max query area size. It will automatically be divided up into multiple sub-queries accordingly. This may take a long time.\n",
      "  multi_poly_proj = utils_geo._consolidate_subdivide_geometry(poly_proj)\n"
     ]
    },
    {
     "name": "stdout",
     "output_type": "stream",
     "text": [
      "Processed: Mafraq, Jordan\n",
      "Processed: Salt, Jordan\n",
      "Processed: Amman, Jordan\n",
      "Processed: Zarqa, Jordan\n",
      "Processed: Madaba, Jordan\n",
      "Processed: Al Karak, Jordan\n",
      "Processed: Tafilah, Jordan\n"
     ]
    },
    {
     "name": "stderr",
     "output_type": "stream",
     "text": [
      "/Users/ssaishiva/Downloads/Capital_Scrapper/shiva_env/lib/python3.12/site-packages/osmnx/_overpass.py:267: UserWarning: This area is 15 times your configured Overpass max query area size. It will automatically be divided up into multiple sub-queries accordingly. This may take a long time.\n",
      "  multi_poly_proj = utils_geo._consolidate_subdivide_geometry(poly_proj)\n"
     ]
    },
    {
     "name": "stdout",
     "output_type": "stream",
     "text": [
      "Processed: Ma'an, Jordan\n",
      "Processed: Aqaba, Jordan\n",
      "Processed: Amman, Jordan\n",
      "Processed: Samakkhixay District, Laos\n",
      "Processed: Houayxay District, Laos\n",
      "Processed: Pakxan District, Laos\n",
      "Processed: Pakse District, Laos\n",
      "Processed: Xam Neua District, Laos\n",
      "Processed: Thakhek District, Laos\n",
      "Processed: Namtha District, Laos\n",
      "Processed: Luang Prabang, Laos\n",
      "Processed: Xay District, Laos\n",
      "Processed: Phongsaly District, Laos\n",
      "Processed: Salavan District, Laos\n",
      "Processed: Khanthaboury District, Laos\n",
      "Processed: Phonhong District, Laos\n",
      "Processed: Vientiane, Laos\n",
      "Processed: Xayabury District, Laos\n",
      "Processed: La Mam District, Laos\n",
      "Processed: Anouvong District, Laos\n",
      "Processed: Pek District, Laos\n",
      "Processed: Alexandria, Egypt\n"
     ]
    },
    {
     "name": "stderr",
     "output_type": "stream",
     "text": [
      "/Users/ssaishiva/Downloads/Capital_Scrapper/shiva_env/lib/python3.12/site-packages/osmnx/_overpass.py:267: UserWarning: This area is 23 times your configured Overpass max query area size. It will automatically be divided up into multiple sub-queries accordingly. This may take a long time.\n",
      "  multi_poly_proj = utils_geo._consolidate_subdivide_geometry(poly_proj)\n"
     ]
    },
    {
     "name": "stdout",
     "output_type": "stream",
     "text": [
      "Processed: Aswan, Egypt\n",
      "Processed: Asyut, Egypt\n",
      "Skipping Damanhur, Egypt due to error: Nominatim did not geocode query 'Damanhur, Egypt' to a geometry of type (Multi)Polygon.\n",
      "Processed: Beni Suef, Egypt\n",
      "Processed: Cairo, Egypt\n",
      "Processed: Mansoura, Egypt\n",
      "Processed: Damietta, Egypt\n",
      "Processed: Faiyum, Egypt\n",
      "Processed: Tanta, Egypt\n"
     ]
    },
    {
     "name": "stderr",
     "output_type": "stream",
     "text": [
      "/Users/ssaishiva/Downloads/Capital_Scrapper/shiva_env/lib/python3.12/site-packages/osmnx/_overpass.py:267: UserWarning: This area is 25 times your configured Overpass max query area size. It will automatically be divided up into multiple sub-queries accordingly. This may take a long time.\n",
      "  multi_poly_proj = utils_geo._consolidate_subdivide_geometry(poly_proj)\n"
     ]
    },
    {
     "name": "stdout",
     "output_type": "stream",
     "text": [
      "Processed: Giza, Egypt\n",
      "Processed: Ismailia, Egypt\n",
      "Processed: Kafr El Sheikh, Egypt\n",
      "Processed: Luxor, Egypt\n",
      "Skipping Marsa Matruh, Egypt due to error: Nominatim did not geocode query 'Marsa Matruh, Egypt' to a geometry of type (Multi)Polygon.\n"
     ]
    },
    {
     "name": "stderr",
     "output_type": "stream",
     "text": [
      "/Users/ssaishiva/Downloads/Capital_Scrapper/shiva_env/lib/python3.12/site-packages/osmnx/_overpass.py:267: UserWarning: This area is 14 times your configured Overpass max query area size. It will automatically be divided up into multiple sub-queries accordingly. This may take a long time.\n",
      "  multi_poly_proj = utils_geo._consolidate_subdivide_geometry(poly_proj)\n"
     ]
    },
    {
     "name": "stdout",
     "output_type": "stream",
     "text": [
      "Processed: Minya, Egypt\n",
      "Skipping Shibin El Kom, Egypt due to error: Nominatim did not geocode query 'Shibin El Kom, Egypt' to a geometry of type (Multi)Polygon.\n",
      "Skipping Kharga, Egypt due to error: Nominatim did not geocode query 'Kharga, Egypt' to a geometry of type (Multi)Polygon.\n",
      "Processed: Arish, Egypt\n",
      "Processed: Port Said, Egypt\n",
      "Skipping Banha, Egypt due to error: Nominatim did not geocode query 'Banha, Egypt' to a geometry of type (Multi)Polygon.\n",
      "Processed: Qena, Egypt\n",
      "Skipping Hurghada, Egypt due to error: Nominatim did not geocode query 'Hurghada, Egypt' to a geometry of type (Multi)Polygon.\n",
      "Skipping Zagazig, Egypt due to error: Nominatim did not geocode query 'Zagazig, Egypt' to a geometry of type (Multi)Polygon.\n",
      "Processed: Sohag, Egypt\n",
      "Processed: El Tor, Egypt\n",
      "Processed: Suez, Egypt\n",
      "Processed: Cairo, Egypt\n",
      "Processed: Andijan, Uzbekistan\n",
      "Processed: Bukhara, Uzbekistan\n",
      "Processed: Fergana, Uzbekistan\n",
      "Processed: Jizzakh, Uzbekistan\n",
      "Processed: Namangan, Uzbekistan\n"
     ]
    },
    {
     "name": "stderr",
     "output_type": "stream",
     "text": [
      "/Users/ssaishiva/Downloads/Capital_Scrapper/shiva_env/lib/python3.12/site-packages/osmnx/_overpass.py:267: UserWarning: This area is 54 times your configured Overpass max query area size. It will automatically be divided up into multiple sub-queries accordingly. This may take a long time.\n",
      "  multi_poly_proj = utils_geo._consolidate_subdivide_geometry(poly_proj)\n"
     ]
    },
    {
     "name": "stdout",
     "output_type": "stream",
     "text": [
      "Processed: Navoiy, Uzbekistan\n",
      "Processed: Qarshi, Uzbekistan\n",
      "Processed: Samarkand, Uzbekistan\n",
      "Processed: Guliston, Uzbekistan\n",
      "Processed: Termez, Uzbekistan\n",
      "Processed: Nurafshon, Uzbekistan\n",
      "Processed: Urgench, Uzbekistan\n",
      "Processed: Nukus, Uzbekistan\n",
      "Processed: Ashtarak, Armenia\n",
      "Processed: Artashat, Armenia\n",
      "Processed: Armavir, Armenia\n",
      "Processed: Gavar, Armenia\n",
      "Processed: Hrazdan, Armenia\n",
      "Processed: Vanadzor, Armenia\n",
      "Processed: Gyumri, Armenia\n",
      "Processed: Kapan, Armenia\n",
      "Processed: Ijevan, Armenia\n",
      "Processed: Yeghegnadzor, Armenia\n",
      "Processed: Thimphu, Bhutan\n",
      "Skipping Phuntsholing, Bhutan due to error: Nominatim did not geocode query 'Phuntsholing, Bhutan' to a geometry of type (Multi)Polygon.\n",
      "Processed: Paro, Bhutan\n",
      "Skipping Gelephu, Bhutan due to error: Nominatim did not geocode query 'Gelephu, Bhutan' to a geometry of type (Multi)Polygon.\n",
      "Processed: Samdrup Jongkhar, Bhutan\n",
      "Processed: Wangdue Phodrang, Bhutan\n",
      "Processed: Punakha, Bhutan\n",
      "Skipping Jakar, Bhutan due to error: Nominatim did not geocode query 'Jakar, Bhutan' to a geometry of type (Multi)Polygon.\n",
      "Processed: Nganglam, Bhutan\n",
      "Processed: Samtse, Bhutan\n",
      "Processed: Bắc Giang province, Vietnam\n",
      "Processed: Bắc Kạn province, Vietnam\n",
      "Processed: Cao Bằng province, Vietnam\n",
      "Processed: Hà Giang province, Vietnam\n",
      "Processed: Lạng Sơn province, Vietnam\n",
      "Processed: Phú Thọ province, Vietnam\n",
      "Processed: Quảng Ninh province, Vietnam\n",
      "Processed: Thái Nguyên province, Vietnam\n",
      "Processed: Tuyên Quang province, Vietnam\n",
      "Processed: Lào Cai province, Vietnam\n",
      "Processed: Yên Bái province, Vietnam\n",
      "Processed: Điện Biên province, Vietnam\n",
      "Processed: Hòa Bình province, Vietnam\n",
      "Processed: Lai Châu province, Vietnam\n",
      "Processed: Sơn La province, Vietnam\n",
      "Processed: Bắc Ninh province, Vietnam\n",
      "Processed: Hà Nam province, Vietnam\n",
      "Processed: Hải Dương province, Vietnam\n",
      "Processed: Hưng Yên province, Vietnam\n",
      "Processed: Nam Định province, Vietnam\n",
      "Processed: Ninh Bình province, Vietnam\n",
      "Processed: Thái Bình province, Vietnam\n",
      "Processed: Vĩnh Phúc province, Vietnam\n",
      "Processed: Hanoi, Vietnam\n",
      "Processed: Haiphong, Vietnam\n",
      "Processed: Hà Tĩnh province, Vietnam\n",
      "Processed: Nghệ An province, Vietnam\n",
      "Processed: Quảng Bình province, Vietnam\n",
      "Processed: Quảng Trị province, Vietnam\n",
      "Processed: Thanh Hóa province, Vietnam\n",
      "Processed: Huế, Vietnam\n",
      "Processed: Đắk Lắk province, Vietnam\n",
      "Processed: Đăk Nông province, Vietnam\n",
      "Processed: Gia Lai province, Vietnam\n",
      "Processed: Kon Tum province, Vietnam\n",
      "Processed: Lâm Đồng province, Vietnam\n",
      "Processed: Bình Định province, Vietnam\n"
     ]
    },
    {
     "name": "stderr",
     "output_type": "stream",
     "text": [
      "/Users/ssaishiva/Downloads/Capital_Scrapper/shiva_env/lib/python3.12/site-packages/osmnx/_overpass.py:267: UserWarning: This area is 14 times your configured Overpass max query area size. It will automatically be divided up into multiple sub-queries accordingly. This may take a long time.\n",
      "  multi_poly_proj = utils_geo._consolidate_subdivide_geometry(poly_proj)\n"
     ]
    },
    {
     "name": "stdout",
     "output_type": "stream",
     "text": [
      "Processed: Bình Thuận province, Vietnam\n"
     ]
    },
    {
     "name": "stderr",
     "output_type": "stream",
     "text": [
      "/Users/ssaishiva/Downloads/Capital_Scrapper/shiva_env/lib/python3.12/site-packages/osmnx/_overpass.py:267: UserWarning: This area is 88 times your configured Overpass max query area size. It will automatically be divided up into multiple sub-queries accordingly. This may take a long time.\n",
      "  multi_poly_proj = utils_geo._consolidate_subdivide_geometry(poly_proj)\n"
     ]
    },
    {
     "name": "stdout",
     "output_type": "stream",
     "text": [
      "Processed: Khánh Hòa province, Vietnam\n",
      "Processed: Ninh Thuận province, Vietnam\n",
      "Processed: Phú Yên province, Vietnam\n",
      "Processed: Quảng Nam province, Vietnam\n",
      "Processed: Quảng Ngãi province, Vietnam\n",
      "Processed: Da Nang, Vietnam\n"
     ]
    },
    {
     "name": "stderr",
     "output_type": "stream",
     "text": [
      "/Users/ssaishiva/Downloads/Capital_Scrapper/shiva_env/lib/python3.12/site-packages/osmnx/_overpass.py:267: UserWarning: This area is 15 times your configured Overpass max query area size. It will automatically be divided up into multiple sub-queries accordingly. This may take a long time.\n",
      "  multi_poly_proj = utils_geo._consolidate_subdivide_geometry(poly_proj)\n"
     ]
    },
    {
     "name": "stdout",
     "output_type": "stream",
     "text": [
      "Processed: Bà Rịa–Vũng Tàu province, Vietnam\n",
      "Processed: Bình Dương province, Vietnam\n",
      "Processed: Bình Phước province, Vietnam\n",
      "Processed: Đồng Nai province, Vietnam\n",
      "Processed: Tây Ninh province, Vietnam\n",
      "Processed: Ho Chi Minh City, Vietnam\n",
      "Processed: An Giang province, Vietnam\n",
      "Processed: Bạc Liêu province, Vietnam\n",
      "Processed: Bến Tre province, Vietnam\n",
      "Processed: Cà Mau province, Vietnam\n",
      "Processed: Đồng Tháp province, Vietnam\n",
      "Processed: Hậu Giang province, Vietnam\n"
     ]
    },
    {
     "name": "stderr",
     "output_type": "stream",
     "text": [
      "/Users/ssaishiva/Downloads/Capital_Scrapper/shiva_env/lib/python3.12/site-packages/osmnx/_overpass.py:267: UserWarning: This area is 12 times your configured Overpass max query area size. It will automatically be divided up into multiple sub-queries accordingly. This may take a long time.\n",
      "  multi_poly_proj = utils_geo._consolidate_subdivide_geometry(poly_proj)\n"
     ]
    },
    {
     "name": "stdout",
     "output_type": "stream",
     "text": [
      "Processed: Kiên Giang province, Vietnam\n",
      "Processed: Long An province, Vietnam\n",
      "Processed: Sóc Trăng province, Vietnam\n",
      "Processed: Tiền Giang province, Vietnam\n",
      "Processed: Trà Vinh province, Vietnam\n",
      "Processed: Vĩnh Long province, Vietnam\n",
      "Processed: Cần Thơ, Vietnam\n",
      "Processed: Semey, Kazakhstan\n",
      "Processed: Kokshetau, Kazakhstan\n",
      "Processed: Aktobe, Kazakhstan\n",
      "Processed: Qonaev, Kazakhstan\n"
     ]
    },
    {
     "name": "stderr",
     "output_type": "stream",
     "text": [
      "/Users/ssaishiva/Downloads/Capital_Scrapper/shiva_env/lib/python3.12/site-packages/osmnx/_overpass.py:267: UserWarning: This area is 76 times your configured Overpass max query area size. It will automatically be divided up into multiple sub-queries accordingly. This may take a long time.\n",
      "  multi_poly_proj = utils_geo._consolidate_subdivide_geometry(poly_proj)\n"
     ]
    },
    {
     "name": "stdout",
     "output_type": "stream",
     "text": [
      "Processed: Atyrau, Kazakhstan\n",
      "Processed: Oskemen, Kazakhstan\n",
      "Processed: Taraz, Kazakhstan\n",
      "Processed: Taldykorgan, Kazakhstan\n"
     ]
    },
    {
     "name": "stderr",
     "output_type": "stream",
     "text": [
      "/Users/ssaishiva/Downloads/Capital_Scrapper/shiva_env/lib/python3.12/site-packages/osmnx/_overpass.py:267: UserWarning: This area is 138 times your configured Overpass max query area size. It will automatically be divided up into multiple sub-queries accordingly. This may take a long time.\n",
      "  multi_poly_proj = utils_geo._consolidate_subdivide_geometry(poly_proj)\n"
     ]
    },
    {
     "name": "stdout",
     "output_type": "stream",
     "text": [
      "Processed: Karaganda, Kazakhstan\n"
     ]
    },
    {
     "name": "stderr",
     "output_type": "stream",
     "text": [
      "/Users/ssaishiva/Downloads/Capital_Scrapper/shiva_env/lib/python3.12/site-packages/osmnx/_overpass.py:267: UserWarning: This area is 108 times your configured Overpass max query area size. It will automatically be divided up into multiple sub-queries accordingly. This may take a long time.\n",
      "  multi_poly_proj = utils_geo._consolidate_subdivide_geometry(poly_proj)\n"
     ]
    },
    {
     "name": "stdout",
     "output_type": "stream",
     "text": [
      "Processed: Kostanay, Kazakhstan\n"
     ]
    },
    {
     "name": "stderr",
     "output_type": "stream",
     "text": [
      "/Users/ssaishiva/Downloads/Capital_Scrapper/shiva_env/lib/python3.12/site-packages/osmnx/_overpass.py:267: UserWarning: This area is 109 times your configured Overpass max query area size. It will automatically be divided up into multiple sub-queries accordingly. This may take a long time.\n",
      "  multi_poly_proj = utils_geo._consolidate_subdivide_geometry(poly_proj)\n"
     ]
    },
    {
     "name": "stdout",
     "output_type": "stream",
     "text": [
      "Processed: Kyzylorda, Kazakhstan\n",
      "Processed: Aktau, Kazakhstan\n",
      "Processed: Petropavl, Kazakhstan\n"
     ]
    },
    {
     "name": "stderr",
     "output_type": "stream",
     "text": [
      "/Users/ssaishiva/Downloads/Capital_Scrapper/shiva_env/lib/python3.12/site-packages/osmnx/_overpass.py:267: UserWarning: This area is 61 times your configured Overpass max query area size. It will automatically be divided up into multiple sub-queries accordingly. This may take a long time.\n",
      "  multi_poly_proj = utils_geo._consolidate_subdivide_geometry(poly_proj)\n"
     ]
    },
    {
     "name": "stdout",
     "output_type": "stream",
     "text": [
      "Processed: Pavlodar, Kazakhstan\n",
      "Processed: Turkistan, Kazakhstan\n",
      "Processed: Jezkazgan, Kazakhstan\n",
      "Processed: Oral, Kazakhstan\n",
      "Processed: Ölgii, Mangolia\n"
     ]
    },
    {
     "name": "stderr",
     "output_type": "stream",
     "text": [
      "/Users/ssaishiva/Downloads/Capital_Scrapper/shiva_env/lib/python3.12/site-packages/osmnx/_overpass.py:267: UserWarning: This area is 23 times your configured Overpass max query area size. It will automatically be divided up into multiple sub-queries accordingly. This may take a long time.\n",
      "  multi_poly_proj = utils_geo._consolidate_subdivide_geometry(poly_proj)\n"
     ]
    },
    {
     "name": "stdout",
     "output_type": "stream",
     "text": [
      "Processed: Bulgan, Mangolia\n",
      "Processed: Darkhan, Mangolia\n",
      "Processed: Choibalsan, Mangolia\n",
      "Processed: Sainshand, Mangolia\n",
      "Processed: Mandalgovi, Mangolia\n",
      "Processed: Altai City, Mangolia\n",
      "Processed: Choir, Mangolia\n",
      "Skipping Öndörkhaan, Mangolia due to error: Nominatim did not geocode query 'Öndörkhaan, Mangolia' to a geometry of type (Multi)Polygon.\n"
     ]
    },
    {
     "name": "stderr",
     "output_type": "stream",
     "text": [
      "/Users/ssaishiva/Downloads/Capital_Scrapper/shiva_env/lib/python3.12/site-packages/osmnx/_overpass.py:267: UserWarning: This area is 39 times your configured Overpass max query area size. It will automatically be divided up into multiple sub-queries accordingly. This may take a long time.\n",
      "  multi_poly_proj = utils_geo._consolidate_subdivide_geometry(poly_proj)\n"
     ]
    },
    {
     "name": "stdout",
     "output_type": "stream",
     "text": [
      "Processed: Khovd, Mangolia\n",
      "Processed: Mörön, Mangolia\n",
      "Processed: Erdenet, Mangolia\n",
      "Processed: Dalanzadgad, Mangolia\n",
      "Processed: Arvaikheer, Mangolia\n"
     ]
    },
    {
     "name": "stderr",
     "output_type": "stream",
     "text": [
      "/Users/ssaishiva/Downloads/Capital_Scrapper/shiva_env/lib/python3.12/site-packages/osmnx/_overpass.py:267: UserWarning: This area is 37 times your configured Overpass max query area size. It will automatically be divided up into multiple sub-queries accordingly. This may take a long time.\n",
      "  multi_poly_proj = utils_geo._consolidate_subdivide_geometry(poly_proj)\n"
     ]
    },
    {
     "name": "stdout",
     "output_type": "stream",
     "text": [
      "Processed: Sükhbaatar, Mangolia\n",
      "Processed: Baruun-Urt, Mangolia\n",
      "Processed: Zuunmod, Mangolia\n",
      "Processed: Ulaangom, Mangolia\n",
      "Processed: Uliastai, Mangolia\n",
      "Processed: Ulaanbaatar, Mangolia\n",
      "Updated data saved to /Users/ssaishiva/Downloads/Data.csv\n"
     ]
    }
   ],
   "source": [
    "import osmnx as ox\n",
    "import geopandas as gpd\n",
    "import pandas as pd\n",
    "import numpy as np\n",
    "\n",
    "csv_filename = \"/Users/ssaishiva/Downloads/Data.csv\" \n",
    "df = pd.read_csv(csv_filename)\n",
    "\n",
    "for col in [\"Total Road Length (km)\", \"City Area (sq km)\", \"Road Density (km/sq km)\"]:\n",
    "    if col not in df.columns:\n",
    "        df[col] = np.nan \n",
    "\n",
    "def get_utm_zone(lat, lon):\n",
    "    zone_number = int((lon + 180) / 6) + 1\n",
    "    return f\"EPSG:326{zone_number:02d}\" if lat > 0 else f\"EPSG:327{zone_number:02d}\"\n",
    "\n",
    "for index, row in df.iterrows():\n",
    "    place_name = row[\"City, Country\"]\n",
    "    try:\n",
    "        graph = ox.graph_from_place(place_name, network_type='all')\n",
    "        nodes, edges = ox.graph_to_gdfs(graph)\n",
    "        \n",
    "        city_lat, city_lon = ox.geocode(place_name)\n",
    "        utm_crs = get_utm_zone(city_lat, city_lon)\n",
    "        edges = edges.to_crs(utm_crs)\n",
    "        \n",
    "        edges = edges.drop_duplicates(subset='osmid')\n",
    "        \n",
    "        edges['length'] = edges.geometry.length\n",
    "        total_road_length_km = edges['length'].sum() / 1000  \n",
    "        \n",
    "        try:\n",
    "            city_boundary = ox.geocode_to_gdf(place_name).to_crs(utm_crs)\n",
    "            area_sq_km = city_boundary.area.iloc[0] / 10**6  \n",
    "        except Exception as e:\n",
    "            print(f\"Skipping {place_name} - No OSM boundary available. Error: {e}\")\n",
    "            continue \n",
    "        \n",
    "        road_density = total_road_length_km / area_sq_km\n",
    "        \n",
    "        df.at[index, \"Total Road Length (km)\"] = total_road_length_km\n",
    "        df.at[index, \"City Area (sq km)\"] = area_sq_km\n",
    "        df.at[index, \"Road Density (km/sq km)\"] = road_density\n",
    "        \n",
    "        print(f\"Processed: {place_name}\")\n",
    "    \n",
    "    except Exception as e:\n",
    "        print(f\"Skipping {place_name} due to error: {e}\")\n",
    "        continue \n",
    "\n",
    "df.to_csv(csv_filename, index=False)\n",
    "print(f\"Updated data saved to {csv_filename}\")\n"
   ]
  }
 ],
 "metadata": {
  "kernelspec": {
   "display_name": "shiva_env",
   "language": "python",
   "name": "python3"
  },
  "language_info": {
   "codemirror_mode": {
    "name": "ipython",
    "version": 3
   },
   "file_extension": ".py",
   "mimetype": "text/x-python",
   "name": "python",
   "nbconvert_exporter": "python",
   "pygments_lexer": "ipython3",
   "version": "3.12.7"
  }
 },
 "nbformat": 4,
 "nbformat_minor": 2
}
